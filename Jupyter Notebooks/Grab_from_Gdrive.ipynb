{
 "cells": [
  {
   "cell_type": "markdown",
   "metadata": {},
   "source": [
    "#     Mr. Robot's Object Detector on Toy Reindeer, Gdrive To/From with Bounding Boxes Notebook \n",
    "## by:  Steven Smiley"
   ]
  },
  {
   "cell_type": "markdown",
   "metadata": {},
   "source": [
    "* [1: Purpose](#Code_Objective_1)\n",
    "* [2: Import Libraries](#Code_Objective_2)\n",
    "* [3: Import Images from Gdrive](#Code_Objective_3)\n",
    "* [4: Create Bounding Boxes with LabelImg](#Code_Objective_4)\n",
    "* [5: Send Back to Gdrive](#Code_Objective_5)\n",
    "* [6: References](#Code_Objective_6)"
   ]
  },
  {
   "cell_type": "markdown",
   "metadata": {},
   "source": [
    "# 1. Purpose<a class=\"anchor\" id=\"Code_Objective_1\"></a>\n",
    "The purpose of this Jupyter notebook is to get the raw images captured on the Raspberry Pi to label them with bounding boxes using ImageLabel[2](#Ref_2) for making a custom object detector on a toy reindeer.  Once images are labeled with bounding boxes, they are returned to the Gdrive to be trained with Google Colab.\n",
    "\n",
    "Please following instructions for using LabelImg[1](#Ref_1): https://github.com/tzutalin/labelImg\n",
    "\n",
    "Please see instructions for using rclone with Google Drive[2](#Ref_2): https://rclone.org/drive/ \n",
    "\n"
   ]
  },
  {
   "cell_type": "markdown",
   "metadata": {},
   "source": [
    "# 2. Import Libraries <a class=\"anchor\" id=\"Code_Objective_2\"></a>"
   ]
  },
  {
   "cell_type": "code",
   "execution_count": 1,
   "metadata": {},
   "outputs": [],
   "source": [
    "import os"
   ]
  },
  {
   "cell_type": "markdown",
   "metadata": {},
   "source": [
    "# 3. Grab Images from Gdrive <a class=\"anchor\" id=\"Code_Objective_3\"></a>"
   ]
  },
  {
   "cell_type": "code",
   "execution_count": 2,
   "metadata": {},
   "outputs": [
    {
     "data": {
      "text/plain": [
       "'/Volumes/One Touch'"
      ]
     },
     "execution_count": 2,
     "metadata": {},
     "output_type": "execute_result"
    }
   ],
   "source": [
    "currentDirectory=os.getcwd()\n",
    "currentDirectory"
   ]
  },
  {
   "cell_type": "code",
   "execution_count": 3,
   "metadata": {},
   "outputs": [
    {
     "name": "stdout",
     "output_type": "stream",
     "text": [
      "Does this look right? \n",
      " /home/pi/Desktop/Output/Toy_Pictures \n",
      "\n",
      "Does this look right? \n",
      " /Volumes/One Touch/Toy_Images \n",
      "\n"
     ]
    },
    {
     "data": {
      "text/plain": [
       "''"
      ]
     },
     "execution_count": 3,
     "metadata": {},
     "output_type": "execute_result"
    }
   ],
   "source": [
    "rclone_name=\"remote\"\n",
    "\n",
    "#path_Gdrive=\"/home/pi/Desktop/Output/Ball_Pictures\" #check to make sure this is right\n",
    "#path_Gdrive=\"/home/pi/Desktop/Output/Water_Pictures\" #check to make sure this is right\n",
    "path_Gdrive=\"/home/pi/Desktop/Output/Toy_Pictures\" #check to make sure this is right\n",
    "input('Does this look right? \\n {} \\n'.format(path_Gdrive))\n",
    "\n",
    "\n",
    "#path_local=\"/Volumes/One Touch/Ball_Images\"\n",
    "path_local=\"/Volumes/One Touch/Toy_Images\"\n",
    "input('Does this look right? \\n {} \\n'.format(path_local))"
   ]
  },
  {
   "cell_type": "code",
   "execution_count": 4,
   "metadata": {},
   "outputs": [],
   "source": [
    "def grab_Gdrive(rclone_name,path_Gdrive,path_local):\n",
    "    command='rclone copy {}:{} \"{}\"'.format(rclone_name,path_Gdrive,path_local)\n",
    "    os.system(command)"
   ]
  },
  {
   "cell_type": "code",
   "execution_count": 5,
   "metadata": {},
   "outputs": [],
   "source": [
    "grab_Gdrive(rclone_name,path_Gdrive,path_local)"
   ]
  },
  {
   "cell_type": "markdown",
   "metadata": {},
   "source": [
    "# 4. Create Bounding Boxes with LabelImg<a class=\"anchor\" id=\"Code_Objective_4\"></a>"
   ]
  },
  {
   "cell_type": "code",
   "execution_count": 6,
   "metadata": {},
   "outputs": [],
   "source": [
    "#Yolo bounding boxes"
   ]
  },
  {
   "cell_type": "code",
   "execution_count": 7,
   "metadata": {},
   "outputs": [],
   "source": [
    "label_master_path='\"/Volumes/One Touch/Fun_Project_36/labelImg-master/labelImg.py\"'"
   ]
  },
  {
   "cell_type": "code",
   "execution_count": 8,
   "metadata": {},
   "outputs": [
    {
     "data": {
      "text/plain": [
       "0"
      ]
     },
     "execution_count": 8,
     "metadata": {},
     "output_type": "execute_result"
    }
   ],
   "source": [
    "os.system(\"cd {}; python {} {}\".format(path_Gdrive,label_master_path,path_local))"
   ]
  },
  {
   "cell_type": "markdown",
   "metadata": {},
   "source": [
    "# 5. Send Labelled Images Back to Gdrive<a class=\"anchor\" id=\"Code_Objective_5\"></a>"
   ]
  },
  {
   "cell_type": "code",
   "execution_count": 9,
   "metadata": {},
   "outputs": [],
   "source": [
    "#path_Gdrive_new=\"/Images/Ball_Images\"\n",
    "#path_Gdrive_new=\"/Images/Water_Images\"\n",
    "path_Gdrive_new=\"/Images/Toy_Images\""
   ]
  },
  {
   "cell_type": "code",
   "execution_count": 10,
   "metadata": {},
   "outputs": [],
   "source": [
    "path_local=\"//Volumes//One Touch//RPI_Images//Toy_Images\""
   ]
  },
  {
   "cell_type": "code",
   "execution_count": 11,
   "metadata": {},
   "outputs": [],
   "source": [
    "def send_Gdrive(rclone_name,path_Gdrive_new,path_local):\n",
    "    command='rclone copy \"{}\" {}:{}'.format(path_local,rclone_name,path_Gdrive_new)\n",
    "    print(command)\n",
    "    os.system(command)\n",
    "    \n",
    "    "
   ]
  },
  {
   "cell_type": "code",
   "execution_count": null,
   "metadata": {},
   "outputs": [],
   "source": [
    "send_Gdrive(rclone_name,path_Gdrive_new,path_local)"
   ]
  },
  {
   "cell_type": "markdown",
   "metadata": {},
   "source": [
    "# 6. References <a class=\"anchor\" id=\"Code_Objective_6\"></a>"
   ]
  },
  {
   "cell_type": "markdown",
   "metadata": {},
   "source": [
    "1. LabelImg. [https://github.com/tzutalin/labelImg] <a class=\"anchor\" id=\"Ref_1\"></a>   \n",
    "2. Rclone. [https://rclone.org/drive/]<a class=\"anchor\" id=\"Ref_2\"></a>  "
   ]
  },
  {
   "cell_type": "code",
   "execution_count": null,
   "metadata": {},
   "outputs": [],
   "source": []
  }
 ],
 "metadata": {
  "kernelspec": {
   "display_name": "Python 3",
   "language": "python",
   "name": "python3"
  },
  "language_info": {
   "codemirror_mode": {
    "name": "ipython",
    "version": 3
   },
   "file_extension": ".py",
   "mimetype": "text/x-python",
   "name": "python",
   "nbconvert_exporter": "python",
   "pygments_lexer": "ipython3",
   "version": "3.8.5"
  }
 },
 "nbformat": 4,
 "nbformat_minor": 4
}
